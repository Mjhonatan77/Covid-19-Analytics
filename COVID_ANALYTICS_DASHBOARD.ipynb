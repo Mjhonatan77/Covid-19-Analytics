{
 "cells": [
  {
   "cell_type": "code",
   "execution_count": 1,
   "id": "7222619a",
   "metadata": {},
   "outputs": [],
   "source": [
    "from ipywidgets import interact, interactive, fixed, interact_manual\n",
    "import ipywidgets as widgets"
   ]
  },
  {
   "cell_type": "code",
   "execution_count": 2,
   "id": "4139ce63",
   "metadata": {},
   "outputs": [],
   "source": [
    "import matplotlib.pyplot as plt\n",
    "from matplotlib import *\n",
    "import pandas as pd\n",
    "import numpy as np"
   ]
  },
  {
   "cell_type": "code",
   "execution_count": 3,
   "id": "50f37b03",
   "metadata": {},
   "outputs": [],
   "source": [
    "import pandas as pd\n",
    "import matplotlib.pyplot as plt\n",
    "import matplotlib as mpl\n",
    "import numpy as np\n",
    "from matplotlib.font_manager import FontProperties"
   ]
  },
  {
   "cell_type": "code",
   "execution_count": 4,
   "id": "946a7fe6",
   "metadata": {},
   "outputs": [],
   "source": [
    "import ipywidgets as widgets\n",
    "from ipywidgets import interact\n",
    "from IPython.core.display import HTML\n",
    "# from keras.preprocessing import image\n",
    "import numpy as np\n",
    "import os.path\n",
    "from os import path\n",
    "from tensorflow.keras.models import load_model\n",
    "# from PIL import Image\n",
    "import io\n",
    "import random\n",
    "import tensorflow as tf\n",
    "import matplotlib.pyplot as plt "
   ]
  },
  {
   "cell_type": "code",
   "execution_count": 5,
   "id": "2e19ad40",
   "metadata": {
    "scrolled": true
   },
   "outputs": [],
   "source": [
    "import pandas as pd\n",
    "from matplotlib import pyplot as plt\n",
    "import geopandas as gpd\n",
    "import numpy as np\n",
    "import matplotlib.pyplot as plt\n",
    "import matplotlib.colors as mplc\n",
    "import matplotlib.ticker as ticker\n",
    "import dataframe_image as dfi\n",
    "\n",
    "import keras\n",
    "from keras.layers import Dense, Conv2D, MaxPool2D, Dropout, Flatten\n",
    "from keras.models import Sequential\n",
    "from keras.preprocessing.image import ImageDataGenerator\n",
    "from tensorflow.keras.preprocessing import image\n",
    "\n",
    "import ipywidgets as widgets\n",
    "from ipywidgets import interact\n",
    "from IPython.core.display import HTML\n",
    "import os.path\n",
    "from os import path\n",
    "from ipywidgets import Button, HBox, VBox, Layout\n",
    "%matplotlib inline\n",
    "\n",
    "import warnings\n",
    "warnings.simplefilter('ignore')\n",
    "\n",
    "from tensorflow.keras.models import load_model"
   ]
  },
  {
   "cell_type": "code",
   "execution_count": 6,
   "id": "c8ba4f71",
   "metadata": {},
   "outputs": [],
   "source": [
    "def RegistroDiario(y,m,d):\n",
    "    #importar dataset y dar formato al valor de las fechas Data\\REGISTRO_DIARIO_Datos_completos_data.csv \n",
    "    REGISTRO_DIARIO = pd.read_csv('DataCopy\\REGISTRO_DIARIO_Full_Data_data1.csv', delimiter=';')\n",
    "    REGISTRO_DIARIO['Fecha'] = pd.to_datetime(REGISTRO_DIARIO['Fecha'], format='%m/%d/%Y')\n",
    "    \n",
    "    REGISTRO_DIARIO = REGISTRO_DIARIO.drop(REGISTRO_DIARIO[REGISTRO_DIARIO['Fecha']  > str(y)+'-'+str(m)+'-'+str(d)].index)\n",
    "\n",
    "    #agrupar por meses \n",
    "    CADA_MES = REGISTRO_DIARIO.Fecha.dt.to_period(\"M\")  # new way to get the same\n",
    "    CADA_MES = REGISTRO_DIARIO.groupby(CADA_MES)\n",
    "    CADA_MES = CADA_MES.sum()\n",
    "    #agregar fecha como columna y poner indice default\n",
    "    CADA_MES = CADA_MES.reset_index()\n",
    "    #CADA_MES = CADA_MES.drop(17)\n",
    "    positives=CADA_MES['Confirmados Total'].sum()\n",
    "    deaths=CADA_MES['Fallecidos'].sum()\n",
    "    recovered = CADA_MES['Recuperados'].sum()\n",
    "    actual= CADA_MES['Confirmados Total'].sum() - CADA_MES['Recuperados'].sum()\n",
    "    \n",
    "    print()\n",
    "    print(\"POSITIVES CASES UNTIL \"+str(m)+ \" ARE: \"+str(CADA_MES['Confirmados Total'].sum()))\n",
    "    print()\n",
    "    print(\"RECOVERED CASES UNTIL \"+str(m)+\" ARE: \"+str(CADA_MES['Fallecidos'].sum()))\n",
    "    print()\n",
    "    print(\"DEATH CASES UNTIL \"+str(m)+\" ARE: \"+str(CADA_MES['Recuperados'].sum()))\n",
    "    print()\n",
    "    print(\"ACTUAL POSITIVE CASES UNTIL \"+str(m)+\" ARE: \"+str((CADA_MES['Confirmados Total'].sum())-(CADA_MES['Recuperados'].sum())))\n",
    "    print()\n",
    "    meses = CADA_MES.Fecha.astype(str)\n",
    "    \n",
    "    df = CADA_MES.iloc[:, [0,3]]\n",
    "    mpl.style.use('default')\n",
    "    mpl.rc('xtick', labelsize = 7)\n",
    "    mpl.rc('ytick', labelsize = 7)\n",
    "    fig = plt.figure()\n",
    "    fig.subplots_adjust(left=0, wspace=0.1)\n",
    "    plt.subplot2grid((1, 6), (0, 0), colspan=4)\n",
    "    \n",
    "    plt.bar(meses, CADA_MES['Confirmados Total'])\n",
    "    plt.title('POSITIVE CASES PER MONTH')\n",
    "    plt.xticks(rotation=80)\n",
    "    plt.tight_layout()\n",
    "\n",
    "    table_subplot = plt.subplot2grid((1, 4), (0, 3))\n",
    "    data=df.values.astype(str)\n",
    "    column_labels=df.columns\n",
    "    table = plt.table(cellText=data, colLabels=column_labels, loc='center', cellLoc='center', colColours=['#FFFFFF', '#4A8DDC'])\n",
    "    table.auto_set_font_size(False)\n",
    "    table.set_fontsize(7)\n",
    "    table.auto_set_column_width((-1, 0, 1, 2, 3))\n",
    "    for (row, col), cell in table.get_celld().items():\n",
    "        if (row == 0):\n",
    "            cell.set_text_props(fontproperties=FontProperties(weight='normal', size=10))\n",
    "    plt.axis('off')\n",
    "    plt.show()\n",
    "    \n",
    "    \n",
    "    df = CADA_MES.iloc[:, [0,4]]\n",
    "    mpl.style.use('default')\n",
    "    mpl.rc('xtick', labelsize = 7)\n",
    "    mpl.rc('ytick', labelsize = 7)\n",
    "    fig = plt.figure()\n",
    "    fig.subplots_adjust(left=0, wspace=0.1)\n",
    "    plt.subplot2grid((1, 6), (0, 0), colspan=4)\n",
    "\n",
    "    plt.bar(meses, CADA_MES['Fallecidos'])\n",
    "    plt.title('DEATHS PER MONTH')\n",
    "    plt.xticks(rotation=80)\n",
    "    plt.tight_layout()\n",
    "\n",
    "    table_subplot = plt.subplot2grid((1, 4), (0, 3))\n",
    "    data=df.values.astype(str)\n",
    "    column_labels=df.columns\n",
    "    table = plt.table(cellText=data, colLabels=column_labels, loc='center', cellLoc='center', colColours=['#FFFFFF', '#4A8DDC'])\n",
    "    table.auto_set_font_size(False)\n",
    "    table.set_fontsize(7)\n",
    "    table.auto_set_column_width((-1, 0, 1, 2, 3))\n",
    "    for (row, col), cell in table.get_celld().items():\n",
    "        if (row == 0):\n",
    "            cell.set_text_props(fontproperties=FontProperties(weight='normal', size=10))\n",
    "    plt.axis('off')\n",
    "    plt.show()\n",
    "\n",
    "    \n",
    "    \n",
    "    df = CADA_MES.iloc[:, [0,7]]\n",
    "    mpl.style.use('default')\n",
    "    mpl.rc('xtick', labelsize = 7)\n",
    "    mpl.rc('ytick', labelsize = 7)\n",
    "    fig = plt.figure()\n",
    "    fig.subplots_adjust(left=0, wspace=0.1)\n",
    "    plt.subplot2grid((1, 6), (0, 0), colspan=4)\n",
    "\n",
    "    plt.bar(meses, CADA_MES['Recuperados'])\n",
    "    plt.title('RECOVERED PER MONTH')\n",
    "    plt.xticks(rotation=80)\n",
    "    plt.tight_layout()\n",
    "\n",
    "    table_subplot = plt.subplot2grid((1, 4), (0, 3))\n",
    "    data=df.values.astype(str)\n",
    "    column_labels=df.columns\n",
    "    table = plt.table(cellText=data, colLabels=column_labels, loc='center', cellLoc='center', colColours=['#FFFFFF', '#4A8DDC'])\n",
    "    table.auto_set_font_size(False)\n",
    "    table.set_fontsize(7)\n",
    "    table.auto_set_column_width((-1, 0, 1, 2, 3))\n",
    "    for (row, col), cell in table.get_celld().items():\n",
    "        if (row == 0):\n",
    "            cell.set_text_props(fontproperties=FontProperties(weight='normal', size=10))\n",
    "    plt.axis('off')\n",
    "    plt.show()\n",
    "    \n",
    "    \n",
    "    \n",
    "    df = CADA_MES.iloc[:, [0,1,3,4]]\n",
    "    mpl.style.use('default')\n",
    "    mpl.rc('xtick', labelsize = 7)\n",
    "    mpl.rc('ytick', labelsize = 7)\n",
    "    fig = plt.figure()\n",
    "    fig.subplots_adjust(left=2,right = 3, wspace=1)\n",
    "    plt.subplot2grid((1, 6), (0, 0), colspan=4)\n",
    "\n",
    "    mes = df.Fecha.astype(str)\n",
    "    plt.plot(mes, df['Cantidad Pruebas'], label = \"Number of tests\")\n",
    "    plt.plot(mes, df['Confirmados Total'], label = \"Number of positives\")\n",
    "    plt.title('Number of positives versus number of tests')\n",
    "    plt.xticks(rotation=80)\n",
    "    plt.tight_layout()\n",
    "    plt.legend()\n",
    "\n",
    "    table_subplot = plt.subplot2grid((1, 4), (0, 3))\n",
    "    data=df.values.astype(str)\n",
    "    column_labels=df.columns\n",
    "    table = plt.table(cellText=data, colLabels=df.columns, loc='right', cellLoc='center', colColours=['#FFFFFF', '#4A8DDC', '#4A8DDC', '#4A8DDC'])\n",
    "    table.auto_set_font_size(False)\n",
    "    table.set_fontsize(7)\n",
    "    table.auto_set_column_width((-1, 0, 1, 2, 3))\n",
    "\n",
    "    for (row, col), cell in table.get_celld().items():\n",
    "        if (row == 0):\n",
    "            cell.set_text_props(fontproperties=FontProperties(weight='bold', size=10))\n",
    "    plt.axis('off')\n",
    "    plt.show()\n"
   ]
  },
  {
   "cell_type": "code",
   "execution_count": 7,
   "id": "2e5c253e",
   "metadata": {},
   "outputs": [],
   "source": [
    "def Fallecidos(y,m,d):\n",
    "    FALLECIDOS = pd.read_csv('DataCopy\\FALLECIDOS_Datos_completos_data.csv', delimiter=';')\n",
    "    FALLECIDOS['Fecha de Divulgación'] = pd.to_datetime(FALLECIDOS['Fecha de Divulgación'], format='%d/%m/%Y')\n",
    "    FALLECIDOS['Fecha Obito'] = pd.to_datetime(FALLECIDOS['Fecha Obito'], format='%d/%m/%Y')\n",
    "\n",
    "    FALLECIDOS.sort_values('Fecha Obito')\n",
    "    FALLECIDOS2 =FALLECIDOS.sort_values('Fecha Obito')\n",
    "    FALLECIDOS2 = FALLECIDOS2.reset_index()\n",
    "    FALLECIDOS2 = FALLECIDOS2.drop(FALLECIDOS2[FALLECIDOS2['Fecha Obito'] > str(y)+'-'+str(m)+'-'+str(d)].index)\n",
    "    data = {'Departamento Residencia': ['ALTO PARAGUAY','ALTO PARANA','AMAMBAY','ASUNCION','BOQUERON','CAAGUAZU','CAAZAPA'\n",
    "                                                            ,'CANINDEYU','CENTRAL','CONCEPCION','CORDILLERA','GUAIRA','ITAPUA','MISIONES'\n",
    "                                                            ,'PARAGUARI','PTE. HAYES','SAN PEDRO','ÑEEMBUCU'],\n",
    "            'Fallecidos Total': [1, 1, 1, 1, 1, 1, 1, 1, 1, 1, 1, 1, 1, 1, 1, 1, 1, 1]\n",
    "            }\n",
    "\n",
    "    mpordep1 = pd.DataFrame(data)\n",
    "    mpordep = FALLECIDOS2.groupby(['Departamento Residencia']).count().reset_index()\n",
    "    mpordep = mpordep.drop(['ID', 'Fecha de Divulgación', 'Fecha Obito','Sexo', 'Distrito Residencia', 'Edad'], axis=1)\n",
    "    mpordep.rename(columns={'index':'Fallecidos Total'}, inplace=True)\n",
    "    mpordep = pd.concat([mpordep,mpordep1]).groupby(['Departamento Residencia']).sum().reset_index()\n",
    "    mpordep.iloc[0:18,:1] = ('ALTO PARAGUAY','ALTO PARANÁ','AMAMBAY','ASUNCIÓN','BOQUERÓN','CAAGUAZÚ','CAAZAPÁ'\n",
    "                                                            ,'CANINDEYÚ','CENTRAL','CONCEPCIÓN','CORDILLERA','GUAIRÁ','ITAPÚA','MISIONES'\n",
    "                                                            ,'PARAGUARÍ','PRESIDENTE HAYES','SAN PEDRO','ÑEEMBUCÚ')\n",
    "    FALLECIDOS2['Edad'].dtype\n",
    "    bins=[0,5,10,15,20,25,30,35,40,45,50,55,60,65,70,75,80,85,90,95,100]\n",
    "    edad = FALLECIDOS2.groupby(pd.cut(FALLECIDOS2.Edad, bins)).count()\n",
    "    edad.rename(columns={'Edad':'Cantidad'}, inplace=True)\n",
    "    edad.columns\n",
    "    edad.drop(['index', 'ID', 'Fecha de Divulgación', 'Fecha Obito', 'Sexo',\n",
    "           'Departamento Residencia', 'Distrito Residencia'], axis=1)\n",
    "    \n",
    "    \n",
    "    \n",
    "    n = FALLECIDOS2.shape[0]\n",
    "    avg = FALLECIDOS2['Edad'].sum()/n\n",
    "    avg = int(avg)\n",
    "    plt.style.use('default')\n",
    "    bins=[0, 2, 4, 6, 8, 10, 12,14, 16, 18, 20, 22, 24, 26, 28, 30, \n",
    "          32, 34, 36, 38, 40, 42, 44, 46, 48, 50, 52, 54, 56, 58, 60,\n",
    "          62, 64, 66, 68, 70, 72, 74, 76, 78, 80, 82, 84, 86, 88, 90, 92, 94, 96, 98, 100]\n",
    "    plt.axvline(avg,color='#fc4f30', label='Age median (' + str(avg) +')')\n",
    "    plt.legend()\n",
    "    plt.hist(FALLECIDOS2['Edad'], bins=bins, edgecolor='black', log=False)\n",
    "    plt.title('AGE OF DECEASED ')\n",
    "    plt.xlabel('Age')\n",
    "    plt.ylabel('Frequency')\n",
    "    plt.tight_layout()\n",
    "\n",
    "    por_ciudad = FALLECIDOS.groupby(['Sexo'])[['Edad']].count()\n",
    "    \n",
    "    \n",
    "    \n",
    "    \n",
    "    \n",
    "    \n",
    "    \n",
    "    \n",
    "    \n",
    "    \n",
    "    \n",
    "    \n",
    "    \n",
    "    \n",
    "    \n",
    "    \n",
    "    \n",
    "    confirmados = pd.read_csv('DataCopy\\Descargar_datos_Datos_completos_data.csv', delimiter=';')\n",
    "    confirmados['Fecha Confirmacion'] = pd.to_datetime(confirmados['Fecha Confirmacion'], format='%d/%m/%Y')\n",
    "    confirmados2 = confirmados.sort_values('Fecha Confirmacion')\n",
    "    confirmados2 = confirmados2.drop(confirmados2[confirmados2['Fecha Confirmacion'] > str(y)+'-'+str(m)+'-'+str(d)].index) #eliminar datos de agosto\n",
    "    confirmados2.loc[confirmados2['Departamento Residencia'] == 'ASUNCIÓN', 'Departamento Residencia'] = 'ASUNCION'\n",
    "    data = {'Departamento Residencia': ['ALTO PARAGUAY','ALTO PARANA','AMAMBAY','ASUNCION','BOQUERON','CAAGUAZU','CAAZAPA'\n",
    "                                                            ,'CANINDEYU','CENTRAL','CONCEPCION','CORDILLERA','GUAIRA','ITAPUA','MISIONES'\n",
    "                                                            ,'PARAGUARI','PTE. HAYES','SAN PEDRO','ÑEEMBUCU'],\n",
    "            'Confirmados Total': [1, 1, 1, 1, 1, 1, 1, 1, 1, 1, 1, 1, 1, 1, 1, 1, 1, 1]\n",
    "            }\n",
    "\n",
    "    pordep1 = pd.DataFrame(data)\n",
    "    pordep =confirmados2.groupby(['Departamento Residencia'])[['Confirmados Total']].sum()\n",
    "    pordep['Confirmados Total'].sum()\n",
    "    pordep = pordep.reset_index()\n",
    "    pordep = pd.concat([pordep1,pordep]).groupby(['Departamento Residencia']).sum().reset_index()\n",
    "    pordep.iloc[0:18,:1] = ('ALTO PARAGUAY','ALTO PARANÁ','AMAMBAY','ASUNCIÓN','BOQUERÓN','CAAGUAZÚ','CAAZAPÁ'\n",
    "                                                            ,'CANINDEYÚ','CENTRAL','CONCEPCIÓN','CORDILLERA','GUAIRÁ','ITAPÚA','MISIONES'\n",
    "                                                            ,'PARAGUARÍ','PRESIDENTE HAYES','SAN PEDRO','ÑEEMBUCÚ')\n",
    "    shapefile = gpd.read_file(\"Data\\dpto\\Departamentos_Paraguay.shp\")\n",
    "    shapefile = shapefile.merge(\n",
    "                         right = pordep,\n",
    "                         left_on = 'DPTO_DESC',\n",
    "                         right_on = 'Departamento Residencia',\n",
    "                         how = 'left'\n",
    "                         )\n",
    "    shapefile['Confirmados Total_log'] = np.log10(shapefile['Confirmados Total'])\n",
    "    \n",
    "    \n",
    "    \n",
    "    \n",
    "    #creando una figura en matplotlib y ajustando el tamaño deseado \n",
    "    fig , ax = plt.subplots(1 ,figsize = (14,8))\n",
    "    shapefile.plot(\n",
    "      column = 'Confirmados Total', \n",
    "      legend = False, \n",
    "      cmap ='Blues',\n",
    "      ax = ax,\n",
    "      norm = mplc.LogNorm(), #utilizando el logaritmo de la variable\n",
    "      linewidth = 1, #ajustando el grosor de las lineas del mapa\n",
    "      edgecolor ='black' #color de las lineas del mapa\n",
    "      )\n",
    "    vmin = shapefile['Confirmados Total'].min()\n",
    "    vmax = shapefile['Confirmados Total'].max()\n",
    "    #agregando barra de color atraves de matplotlib\n",
    "    #ajsutando posición y dimensiones de la barra\n",
    "    #cax = fig.add_axes([0.75, 0.2, 0.01, 0.6]) \n",
    "    #atributos de la barra de color\n",
    "    sm = plt.cm.ScalarMappable(\n",
    "                          cmap = 'Blues', \n",
    "                          norm = mplc.LogNorm(vmin = vmin, vmax = vmax)\n",
    "                          )\n",
    "    sm._A = []\n",
    "    #OPCIONAL\n",
    "    #formateando los números a absultos de lo contrario salieran a base 10 \n",
    "    formatter = ticker.LogFormatter(10, labelOnlyBase=False) \n",
    "    ax.set_title('Confirmed cases by department', fontsize = 15)\n",
    "    ax.axis('off') #desactivando los ejes de posicionamiento\n",
    "    plt.show()  \n",
    "    df =pordep\n",
    "    data=df.values.astype(str)\n",
    "    column_labels=df.columns\n",
    "    table = plt.table(cellText=data, colLabels=column_labels, loc='center', cellLoc='center', colColours=['#FFFFFF', '#4A8DDC'])\n",
    "    table.auto_set_font_size(False)\n",
    "    table.set_fontsize(7)\n",
    "    table.auto_set_column_width((-1, 0, 1, 2, 3))\n",
    "    for (row, col), cell in table.get_celld().items():\n",
    "        if (row == 0):\n",
    "            cell.set_text_props(fontproperties=FontProperties(weight='normal', size=10))\n",
    "    plt.tight_layout()\n",
    "    plt.axis('off')\n",
    "    plt.show()\n",
    "    \n",
    "    \n",
    "    \n",
    "    shapefile = shapefile.merge(\n",
    "                     right = mpordep,\n",
    "                     left_on = 'DPTO_DESC',\n",
    "                     right_on = 'Departamento Residencia',\n",
    "                     how = 'left'\n",
    "                     )\n",
    "\n",
    "    \n",
    "    \n",
    "    \n",
    "    #creando una figura en matplotlib y ajustando el tamaño deseado \n",
    "    fig , ax = plt.subplots(1 ,figsize = (14,8))\n",
    "    shapefile.plot(\n",
    "      column = 'Fallecidos Total', \n",
    "      legend = False, \n",
    "      cmap ='Blues',\n",
    "      ax = ax,\n",
    "      norm = mplc.LogNorm(), #utilizando el logaritmo de la variable\n",
    "      linewidth = 1, #ajustando el grosor de las lineas del mapa\n",
    "      edgecolor ='black' #color de las lineas del mapa\n",
    "      )\n",
    "    vmin = shapefile['Fallecidos Total'].min()\n",
    "    vmax = shapefile['Fallecidos Total'].max()\n",
    "    #agregando barra de color atraves de matplotlib\n",
    "    #ajsutando posición y dimensiones de la barra\n",
    "    #cax = fig.add_axes([0.75, 0.2, 0.01, 0.6]) \n",
    "    #atributos de la barra de color\n",
    "    sm = plt.cm.ScalarMappable(\n",
    "                          cmap = 'Blues', \n",
    "                          norm = mplc.LogNorm(vmin = vmin, vmax = vmax)\n",
    "                          )\n",
    "    sm._A = []\n",
    "    #OPCIONAL\n",
    "    #formateando los números a absultos de lo contrario salieran a base 10 \n",
    "    formatter = ticker.LogFormatter(10, labelOnlyBase=False) \n",
    "    ax.set_title('death cases by department', fontsize = 15)\n",
    "    ax.axis('off') #desactivando los ejes de posicionamiento\n",
    "    plt.show()\n",
    "    df =mpordep\n",
    "    data=df.values.astype(str)\n",
    "    column_labels=df.columns\n",
    "    table = plt.table(cellText=data, colLabels=column_labels, loc='center', cellLoc='center', colColours=['#FFFFFF', '#4A8DDC'])\n",
    "    table.auto_set_font_size(False)\n",
    "    table.set_fontsize(7)\n",
    "    table.auto_set_column_width((-1, 0, 1, 2, 3))\n",
    "    for (row, col), cell in table.get_celld().items():\n",
    "        if (row == 0):\n",
    "            cell.set_text_props(fontproperties=FontProperties(weight='normal', size=10))\n",
    "    plt.tight_layout()\n",
    "    plt.axis('off')\n",
    "    plt.show()\n",
    "    \n",
    "    \n",
    "    \n",
    "    \n",
    "    \n",
    "    EDADHASTA100 = confirmados2.drop(confirmados2[confirmados2['Edad'] > 105].index)\n",
    "    n=EDADHASTA100.shape[0]\n",
    "    avg = EDADHASTA100['Edad'].sum()/n\n",
    "    avg = int(avg)\n",
    "    plt.style.use('default')\n",
    "    bins=[0, 2, 4, 6, 8, 10, 12,14, 16, 18, 20, 22, 24, 26, 28, 30, \n",
    "          32, 34, 36, 38, 40, 42, 44, 46, 48, 50, 52, 54, 56, 58, 60,\n",
    "          62, 64, 66, 68, 70, 72, 74, 76, 78, 80, 82, 84, 86, 88, 90, 92, 94, 96, 98, 100]\n",
    "    plt.axvline(avg,color='#fc4f30', label='Age median (' + str(avg) +')')\n",
    "    plt.legend()\n",
    "    plt.hist(confirmados2['Edad'], bins=bins, edgecolor='black', log=False)\n",
    "    plt.title('AGE OF POSITIVE CASES')\n",
    "    plt.xlabel('Age')\n",
    "    plt.ylabel('Frequency')\n",
    "    plt.tight_layout()\n",
    "    \n",
    "    "
   ]
  },
  {
   "cell_type": "code",
   "execution_count": 8,
   "id": "96bfb982",
   "metadata": {},
   "outputs": [],
   "source": [
    "def vacunados(y,m,d):\n",
    "\n",
    "    vacunados = pd.read_csv('DataCopy/vacunados.csv', delimiter=';')\n",
    "    vacunados['fecha_aplicacion'] = pd.to_datetime(vacunados['fecha_aplicacion'], format='%Y/%m/%d')\n",
    "    vacunados = vacunados.drop(vacunados[vacunados['fecha_aplicacion'] > str(y)+'-'+str(m)+'-'+str(d)].index)\n",
    "    vacunados2 = vacunados.groupby(vacunados.descripcion_vacuna).count()\n",
    "    vacunados2.reset_index()\n",
    "    vacunados2=vacunados2.drop(['nombre', 'apellido', 'establecimiento', 'fecha_aplicacion', 'cedula',\n",
    "           'actualizado_al'], axis=1).reset_index()\n",
    "    vacunados2= vacunados2.groupby([\"descripcion_vacuna\"]).sum()\n",
    "    vacunados2.plot.bar(xlabel='', title='Most useddd vaccines');\n",
    "\n",
    "    \n",
    "    FIRST =vacunados[vacunados.dosis < 2].count()\n",
    "    SECOND = vacunados[vacunados.dosis > 1].count()\n",
    "    data = {'Dosis Number': ['1', '2'], 'Total': [FIRST[1],SECOND[1]]}  \n",
    "    dosis = pd.DataFrame(data) \n",
    "    population = 7353038\n",
    "    dosis = dosis.assign(percentage = dosis.Total / population*100).round(2)\n",
    "    dosis.rename(columns={'percentage':'percentage of the population'}, inplace=True)\n",
    "    dosis\n",
    "\n",
    "\n",
    "    vaccinated = dosis.Total[0]\n",
    "    vaccinated \n",
    "    labels = 'VACCINATED\\n'+str(vaccinated)+'   ', 'NOT VACCINATED\\n       '+str(population - vaccinated)\n",
    "    sizes = [vaccinated, population - vaccinated]\n",
    "    explode = ( 0, 0)  \n",
    "\n",
    "    fig1, ax1 = plt.subplots()\n",
    "    ax1.pie(sizes, explode=explode, labels=labels, autopct='%1.1f%%',\n",
    "            shadow=True, startangle=90)\n",
    "    ax1.axis('equal')  # Equal aspect ratio ensures that pie is drawn as a circle.\n",
    "    plt.title('VACCINATION STATUS\\n')\n",
    "    plt.show()\n",
    "\n",
    "\n",
    "    vacunados2 = vacunados\n",
    "    dosis2 = vacunados2[vacunados2['dosis'] > 1 ].index\n",
    "    vacunados2.drop(dosis2 , inplace=True)\n",
    "    cada_mes_vacunacion = vacunados2.fecha_aplicacion.dt.to_period(\"M\")  # new way to get the same\n",
    "    cada_mes_vacunacion = vacunados2.groupby(cada_mes_vacunacion)\n",
    "    cada_mes_vacunacion=cada_mes_vacunacion.sum()\n",
    "    cada_mes_vacunacion = cada_mes_vacunacion.reset_index()\n",
    "    meses = cada_mes_vacunacion.fecha_aplicacion.astype(str)\n",
    "    ax = plt.subplots()\n",
    "    plt.bar(meses, cada_mes_vacunacion['dosis']/10**6)\n",
    "    plt.title('VACCINATED PER MONTH')\n",
    "    plt.xticks(rotation=80)\n",
    "    plt.ylabel('population per million')\n",
    "    plt.tight_layout()\n",
    "    cada_mes_vacunacion"
   ]
  },
  {
   "cell_type": "code",
   "execution_count": 9,
   "id": "02ac983a",
   "metadata": {},
   "outputs": [],
   "source": [
    "def h(Period):\n",
    "    months = Period\n",
    "    if (months == 'January 2020' or months == 'February 2020'):\n",
    "        print('no data')\n",
    "    else:\n",
    "        path=\"./Data/decrees/\"+months+'.txt'\n",
    "        f = open(path, 'r',encoding=\"utf8\")\n",
    "        file_contents = f.read()\n",
    "        print (file_contents)\n",
    "        f.close()\n"
   ]
  },
  {
   "cell_type": "code",
   "execution_count": 10,
   "id": "f2f21bff",
   "metadata": {},
   "outputs": [],
   "source": [
    "def f(Month, Year):\n",
    "    m = Month\n",
    "    y = Year\n",
    "\n",
    "    \n",
    "       \n",
    "    switch ={'January': lambda m: 1,'February': lambda m: 2,'March': lambda m: 3,'April': lambda m: 4,'May': lambda m: 5,\n",
    "             'June': lambda m: 6,'July': lambda m: 7,'August': lambda m: 8,'September': lambda m: 9,'October': lambda m: 10,\n",
    "             'November': lambda m: 11,'December': lambda m: 12}\n",
    "    m=0\n",
    "    m = switch[Month](m)\n",
    "    if (m == 1 or m == 3 or m == 5 or m == 7 or m == 8 or m == 10 or m == 12):\n",
    "        d=31\n",
    "    elif(m == 4 or m == 6 or m == 9 or m == 11):\n",
    "        d = 30\n",
    "    elif(m == 2 and y == 2020):\n",
    "        d = 29\n",
    "    else:\n",
    "        d = 28\n",
    "        \n",
    "    if(Year == '2020'):\n",
    "        x = 0\n",
    "    else:\n",
    "        x = 12\n",
    "    n = m + x\n",
    "    months=['January 2020','February 2020','March 2020','April 2020','May 2020','June 2020','July 2020','August 2020','September 2020','October 2020','November 2020','December 2020',\n",
    "          'January 2021','February 2021','March 2021','April 2021','May 2021','June 2021','July 2021','August 2021','September 2021','October 2021','November 2021','December 2021']\n",
    "    newmonth = months[0:n]\n",
    "    print(\" \")\n",
    "    print(\" \")\n",
    "    print(\" \")\n",
    "    display(HTML('<h4>Select a period of time to see the government decrees</h4>'))\n",
    "    interact(h,Period=newmonth);\n",
    "    print(\" \")\n",
    "    print(\" \")\n",
    "    print(\" \")\n",
    "    display(HTML('<h1>VISUALLIZATIONS</h1>'))\n",
    "    print(\" \")\n",
    "    if(Month == 'January' and Year == '2020'):\n",
    "        print(\"No data\")\n",
    "    elif(Month == 'February' and Year == '2020'):\n",
    "        print(\"No data\")\n",
    "    else:\n",
    "        RegistroDiario(Year,m,d) \n",
    "        Fallecidos(Year,m,d)\n",
    "    \n",
    "    if(Year == '2021' and m >=2):\n",
    "        vacunados(Year,m,d)\n"
   ]
  },
  {
   "cell_type": "code",
   "execution_count": 11,
   "id": "40b03bf5",
   "metadata": {
    "scrolled": true
   },
   "outputs": [
    {
     "data": {
      "text/html": [
       "<img src=\"./banner1.png\" alt=\"Smiley face\" width=\"1000\" height=\"420\" style=\"vertical-align:middle;margin:0px 100px\">"
      ],
      "text/plain": [
       "<IPython.core.display.HTML object>"
      ]
     },
     "execution_count": 11,
     "metadata": {},
     "output_type": "execute_result"
    }
   ],
   "source": [
    "HTML(\"\"\"<img src=\"./banner1.png\" alt=\"Smiley face\" width=\"1000\" height=\"420\" style=\"vertical-align:middle;margin:0px 100px\">\"\"\")"
   ]
  },
  {
   "cell_type": "code",
   "execution_count": null,
   "id": "f844e42b",
   "metadata": {
    "scrolled": true
   },
   "outputs": [],
   "source": []
  },
  {
   "cell_type": "markdown",
   "id": "a1389f8f",
   "metadata": {},
   "source": [
    "# X-RAY PREDICTION MODEL"
   ]
  },
  {
   "cell_type": "code",
   "execution_count": 12,
   "id": "e845074c",
   "metadata": {},
   "outputs": [],
   "source": [
    "save_path=\"./Data\"\n"
   ]
  },
  {
   "cell_type": "code",
   "execution_count": 13,
   "id": "34243714",
   "metadata": {},
   "outputs": [],
   "source": [
    "import os.path\n",
    "from os import path"
   ]
  },
  {
   "cell_type": "code",
   "execution_count": 14,
   "id": "ab7f2ffd",
   "metadata": {
    "scrolled": false
   },
   "outputs": [],
   "source": [
    "model2 = load_model(os.path.join(save_path, \"saved_network_final2_graficomaslindo.h5\"))"
   ]
  },
  {
   "cell_type": "code",
   "execution_count": 15,
   "id": "29720945",
   "metadata": {},
   "outputs": [],
   "source": [
    "import ipywidgets as widgets"
   ]
  },
  {
   "cell_type": "code",
   "execution_count": 16,
   "id": "ca2a28a7",
   "metadata": {},
   "outputs": [
    {
     "data": {
      "text/html": [
       "<h4>The CNN model has been trained to identify between X-ray images from the chest that are normal and that have Covid.</h4>"
      ],
      "text/plain": [
       "<IPython.core.display.HTML object>"
      ]
     },
     "metadata": {},
     "output_type": "display_data"
    },
    {
     "data": {
      "text/html": [
       "<h4>Please click the \"Run Interact\" button to analyze a random image to check if it is:</h4>"
      ],
      "text/plain": [
       "<IPython.core.display.HTML object>"
      ]
     },
     "metadata": {},
     "output_type": "display_data"
    }
   ],
   "source": [
    "display(HTML('<h4>The CNN model has been trained to identify between X-ray images from the chest that are normal and that have Covid.</h4>'))\n",
    "display(HTML('<h4>Please click the \"Run Interact\" button to analyze a random image to check if it is:</h4>'))"
   ]
  },
  {
   "cell_type": "code",
   "execution_count": 17,
   "id": "f1af2f0b",
   "metadata": {},
   "outputs": [
    {
     "data": {
      "text/html": [
       "<h4>◙Covid x-Ray</h4>"
      ],
      "text/plain": [
       "<IPython.core.display.HTML object>"
      ]
     },
     "metadata": {},
     "output_type": "display_data"
    },
    {
     "data": {
      "text/html": [
       "<h4>◙Normal x-Ray</h4>"
      ],
      "text/plain": [
       "<IPython.core.display.HTML object>"
      ]
     },
     "metadata": {},
     "output_type": "display_data"
    }
   ],
   "source": [
    "display(HTML('<h4>◙Covid x-Ray</h4>'))\n",
    "display(HTML('<h4>◙Normal x-Ray</h4>'))"
   ]
  },
  {
   "cell_type": "code",
   "execution_count": 18,
   "id": "c6944024",
   "metadata": {},
   "outputs": [
    {
     "data": {
      "application/vnd.jupyter.widget-view+json": {
       "model_id": "6b20550d216947f0b4edc5eefede3ddc",
       "version_major": 2,
       "version_minor": 0
      },
      "text/plain": [
       "interactive(children=(Button(description='Run Interact', style=ButtonStyle()), Output()), _dom_classes=('widge…"
      ]
     },
     "metadata": {},
     "output_type": "display_data"
    }
   ],
   "source": [
    "@widgets.interact_manual()\n",
    "def identify():\n",
    "    \n",
    "    n = random.randint(1, 40)\n",
    "\n",
    "    if n <= 20:\n",
    "        img_path = \"C:/Users/Jhonatan/Documents/CovidAnalytics/Data/validation/Covid (\"+str(n)+\").png\"\n",
    "        img_name = \"Covid (\"+str(n)+\")\"\n",
    "    elif n > 20:\n",
    "        n2 = random.randint(1, 20)\n",
    "        img_path = \"C:/Users/Jhonatan/Documents/CovidAnalytics/Data/validation/Normal (\"+str(n2)+\").png\"\n",
    "        img_name = \"Normal (\"+str(n2)+\")\"\n",
    "        \n",
    "\n",
    "    img = image.load_img(img_path, target_size = (256, 256))\n",
    "    img = image.img_to_array(img)/255\n",
    "    img = np.array([img])\n",
    "    img.shape\n",
    "    #result = model2.predict_classes(img)\n",
    "    result = (model2.predict(img) >0.5).astype(\"int32\")\n",
    "    print(\"The analyzed image is the following:\")\n",
    "    plt.imshow(img[0], cmap = \"gray\")\n",
    "    plt.title(img_name)\n",
    "    plt.show()\n",
    "\n",
    "    if result == 0:\n",
    "        print(\"Result: The image is likely to be a Covid-19 X-ray.\")\n",
    "        \n",
    "    elif result == 1:\n",
    "        print(\"Result: The image is likely to be a Normal X-ray.\")"
   ]
  },
  {
   "cell_type": "code",
   "execution_count": 19,
   "id": "af225ae0",
   "metadata": {},
   "outputs": [
    {
     "name": "stdout",
     "output_type": "stream",
     "text": [
      " \n",
      " \n",
      " \n"
     ]
    },
    {
     "data": {
      "text/html": [
       "<h4>Please select the month and year to show information until chosen time</h4>"
      ],
      "text/plain": [
       "<IPython.core.display.HTML object>"
      ]
     },
     "metadata": {},
     "output_type": "display_data"
    },
    {
     "data": {
      "application/vnd.jupyter.widget-view+json": {
       "model_id": "fb92b4a913f0499b98f1a928c880c6e8",
       "version_major": 2,
       "version_minor": 0
      },
      "text/plain": [
       "interactive(children=(Dropdown(description='Month', options=('January', 'February', 'March', 'April', 'May', '…"
      ]
     },
     "metadata": {},
     "output_type": "display_data"
    }
   ],
   "source": [
    "    \n",
    "print(\" \")\n",
    "print(\" \")\n",
    "print(\" \")\n",
    "display(HTML('<h4>Please select the month and year to show information until chosen time</h4>'))\n",
    "interact_manual(f, Month=['January','February','March','April','May','June','July','August','September','October','November','December'],\n",
    "         Year=['2020','2021']);"
   ]
  }
 ],
 "metadata": {
  "kernelspec": {
   "display_name": "Python 3 (ipykernel)",
   "language": "python",
   "name": "python3"
  },
  "language_info": {
   "codemirror_mode": {
    "name": "ipython",
    "version": 3
   },
   "file_extension": ".py",
   "mimetype": "text/x-python",
   "name": "python",
   "nbconvert_exporter": "python",
   "pygments_lexer": "ipython3",
   "version": "3.10.4"
  }
 },
 "nbformat": 4,
 "nbformat_minor": 5
}
